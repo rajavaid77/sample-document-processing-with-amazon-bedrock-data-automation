{
 "cells": [
  {
   "cell_type": "markdown",
   "id": "28739f83-678f-4e76-bb40-af12caf8fac2",
   "metadata": {
    "editable": true,
    "slideshow": {
     "slide_type": ""
    },
    "tags": []
   },
   "source": [
    "# KB Integration"
   ]
  },
  {
   "cell_type": "markdown",
   "id": "17a7159c-4b33-4c1a-af1d-710d85c921f4",
   "metadata": {
    "editable": true,
    "slideshow": {
     "slide_type": ""
    },
    "tags": []
   },
   "source": [
    "## Introduction\n",
    "\n",
    "Amazon Bedrock Data Automation (BDA) lets you configure output based on your processing needs for a specific data type: images, documents, audio or video. BDA can generate standard output or custom output.\n",
    "\n",
    "You can use standard outputs for all four modalities: images, documents, audio, and videos. BDA always provides a standard output response even if it's alongside a custom output response.\n",
    "\n",
    "Standard outputs are modality-specific default structured insights, such as video summaries that capture key moments, visual and audible toxic content, explanations of document charts, graph figure data, and more. \n",
    "\n",
    "In this notebook we will explore the standard output for documents."
   ]
  },
  {
   "cell_type": "markdown",
   "id": "ca16843e-0586-4c58-991f-ca6898e192e2",
   "metadata": {
    "editable": true,
    "slideshow": {
     "slide_type": ""
    },
    "tags": []
   },
   "source": [
    "### Prerequisites"
   ]
  },
  {
   "cell_type": "code",
   "execution_count": null,
   "id": "f75bfcb2-1f39-4288-a6b7-d3604cff85bc",
   "metadata": {
    "editable": true,
    "scrolled": true,
    "slideshow": {
     "slide_type": ""
    },
    "tags": []
   },
   "outputs": [],
   "source": [
    "%pip install \"boto3>=1.37.6\" itables==2.2.4 PyPDF2==3.0.1 --upgrade -q"
   ]
  },
  {
   "cell_type": "code",
   "execution_count": null,
   "id": "5348287f-33e2-41e9-9b7e-0c76bc401fe2",
   "metadata": {
    "editable": true,
    "slideshow": {
     "slide_type": ""
    },
    "tags": []
   },
   "outputs": [],
   "source": [
    "%load_ext autoreload\n",
    "%autoreload 2"
   ]
  },
  {
   "cell_type": "markdown",
   "id": "e5da4e11-dcff-4300-8d29-f4260abe2856",
   "metadata": {
    "editable": true,
    "slideshow": {
     "slide_type": ""
    },
    "tags": []
   },
   "source": [
    "### Setup\n",
    "\n",
    "Before we get to the part where we invoke BDA with our sample artifacts, let's setup some parameters and configuration that will be used throughout this notebook"
   ]
  },
  {
   "cell_type": "code",
   "execution_count": 5,
   "id": "67f12ca5-97eb-4802-af39-ca7a15248af0",
   "metadata": {},
   "outputs": [],
   "source": [
    "#Clients\n",
    "suffix = random.randrange(200, 900)\n",
    "\n",
    "session = sagemaker.Session()\n",
    "bucket_name = session.default_bucket()\n",
    "\n",
    "sts_client = boto3.client('sts')\n",
    "account_id = sts_client.get_caller_identity()[\"Account\"]\n",
    "\n",
    "bucket_name_kb = f'bedrock-kb-{suffix}-1' # replace it with your first bucket name.\n",
    "region_name = \"us-west-2\" \n",
    "region = region_name\n",
    "\n",
    "s3_client = boto3.client('s3', region_name=region_name)\n",
    "\n",
    "bda_client = boto3.client('bedrock-data-automation', region_name=region_name)\n",
    "bda_runtime_client = boto3.client('bedrock-data-automation-runtime', region_name=region_name)\n",
    "\n",
    "bedrock_agent_client = boto3.client('bedrock-agent')\n",
    "bedrock_agent_runtime_client = boto3.client('bedrock-agent-runtime') \n",
    "\n",
    "logging.basicConfig(format='[%(asctime)s] p%(process)s {%(filename)s:%(lineno)d} %(levelname)s - %(message)s', level=logging.INFO)\n",
    "logger = logging.getLogger(__name__)"
   ]
  },
  {
   "cell_type": "code",
   "execution_count": null,
   "id": "d60dc83e-e9a1-42d8-8de6-021c68f6ab45",
   "metadata": {
    "editable": true,
    "slideshow": {
     "slide_type": ""
    },
    "tags": []
   },
   "outputs": [],
   "source": [
    "import boto3\n",
    "import json\n",
    "from IPython.display import JSON, display, IFrame, Markdown\n",
    "import sagemaker\n",
    "import pandas as pd\n",
    "from itables import show\n",
    "import time\n",
    "\n",
    "\n",
    "session = sagemaker.Session()\n",
    "default_bucket = session.default_bucket()\n",
    "current_region = boto3.session.Session().region_name\n",
    "\n",
    "sts_client = boto3.client('sts')\n",
    "account_id = sts_client.get_caller_identity()['Account']\n",
    "\n",
    "# Initialize Bedrock Data Automation client\n",
    "bda_client = boto3.client('bedrock-data-automation')\n",
    "bda_runtime_client = boto3.client('bedrock-data-automation-runtime')\n",
    "s3_client = boto3.client('s3')\n",
    "\n",
    "bda_s3_input_location = f's3://{default_bucket}/bda/input'\n",
    "bda_s3_output_location = f's3://{default_bucket}/bda/output'"
   ]
  },
  {
   "cell_type": "markdown",
   "id": "eecb09e7-74f9-4d5a-a15f-8f9417698045",
   "metadata": {
    "editable": true,
    "slideshow": {
     "slide_type": ""
    },
    "tags": []
   },
   "source": [
    "# Prepare sample document\n",
    "For this lab, we use a `Monthly Treasury Statement for the United States Government` for Fiscal Year 2025 through November 30, 2024. The document is prepared by the Bureau of the Fiscal Service, Department of the Treasury and provides detailed information on the government's financial activities. We will extract a subset of pages from the `PDF` document and use BDA to extract and analyse the document content.\n",
    "\n",
    "### Download and store sample document\n",
    "we use the document url to download the document and store it a S3 location. \n",
    "\n",
    "Note - We will configure BDA to use the sample input from this S3 location, so we need to ensure that BDA has `s3:GetObject` access to this S3 location. If you are running the notebook in your own AWS Account, ensure that the SageMaker Execution role configured for this JupyterLab app has the right IAM permissions."
   ]
  },
  {
   "cell_type": "code",
   "execution_count": null,
   "id": "3eb1e55b-c165-4cfd-800f-8eac35cabf49",
   "metadata": {
    "editable": true,
    "slideshow": {
     "slide_type": ""
    },
    "tags": []
   },
   "outputs": [],
   "source": [
    "from utils.helper_functions import ( wait_for_job_to_complete,read_s3_object, download_document, get_bucket_and_key, create_image_html_column)\n",
    "\n",
    "from pathlib import Path\n",
    "\n",
    "# Download the document\n",
    "document_url = \"https://fiscaldata.treasury.gov/static-data/published-reports/mts/MonthlyTreasuryStatement_202411.pdf\"\n",
    "\n",
    "local_file_name = \"data/documents/MonthlyTreasuryStatement_202411.pdf\"\n",
    "file_path_local = download_document(document_url, output_file_path=local_file_name)\n",
    "\n",
    "# Upload the document to S3\n",
    "file_name = Path(file_path_local).name\n",
    "document_s3_uri = f'{bda_s3_input_location}/{file_name}'\n",
    "\n",
    "target_s3_bucket, target_s3_key = get_bucket_and_key(document_s3_uri)\n",
    "s3_client.upload_file(local_file_name, target_s3_bucket, target_s3_key)\n",
    "\n",
    "print(f\"Downloaded file to: {file_path_local}\")\n",
    "print(f\"Uploaded file to S3: {target_s3_key}\")\n",
    "print(f\"document_s3_uri: {document_s3_uri}\")"
   ]
  },
  {
   "cell_type": "markdown",
   "id": "dca3a2e4-c400-4eb2-8938-92317cd99ee0",
   "metadata": {
    "editable": true,
    "slideshow": {
     "slide_type": ""
    },
    "tags": []
   },
   "source": [
    "- **[Response Granularity](https://docs.aws.amazon.com/bedrock/latest/userguide/bda-output-documents.html#document-granularity)**\n",
    "This setting indicates to BDA the kind of response you want to receive from document text extraction. Each level of granularity gives you more and more separated responses. The available granularity levels are:\n",
    "  - **Page** - provides each page of the document in the text output (enabled by default)\n",
    "  - **Element** - Provides the text of the document in the output format of your choice, seperated into different elements such as figures, tables, or paragraphs (enabled by default)\n",
    "  - **Word** - Provides you with each word and its location on the page\n",
    "\n",
    "\n",
    "- **Output settings**\n",
    "Output settings determine the structure of the results produced by BDA. The options for output settings are:\n",
    "    - **JSON** - The result would be a JSON output file with the information from your configuration settings. This is the **default** for document analysis.    \n",
    "    - **JSON+files**  The result would include a JSON output along with files that correspond with different outputs. For example, this setting gives you a text file for the overall text extraction, a markdown file for the text with structural markdown, and CSV files for each table that's found in the text.\n",
    "\n",
    "\n",
    "- **Text Format**\n",
    "Text format determines the different kinds of texts that will be provided via various extraction operations. You can select any number of the following options for your text format.\n",
    "\n",
    "   - **Plaintext** – This setting provides a text-only output with no formatting or other markdown elements noted.\n",
    "   - **Text with markdown** – The **default** output setting for standard output. Provides text with markdown elements integrated.    \n",
    "   - **Text with HTML** – Provides text with HTML elements integrated in the response.    \n",
    "   - **CSV** – Provides a CSV structured output for tables within the document. This will only give a response for tables, and not other elements of the document\n",
    "\n",
    "- **Bounding Boxes**\n",
    "    - With the Bounding Boxes option enabled, BDA would output `Bounding Boxes` for elements in the document in form of coordinates of four corners of the box. This helps in creating a visual outline of the element in the document.\n",
    "\n",
    "\n",
    "- **Generative Fields**\n",
    "   - When `Generative Fields` are enabled, BDA generates a 10-word summary and a 250 word description of the document in the output. Additionally with Response Granularity at element level enabled, BDA also generates a descriptive caption of each figure detected in the document. Figures include things like charts, graphs, and images.\n",
    "\n",
    "\n",
    "Both Bounding Boxes and Generative Fields are **disabled by default**.\n",
    "\n",
    "\n",
    "Now that we have looked at the default options, let's create a config which activates all the different types, so that we can see how the output looks like. We leave image, audio, and video types for illustrational purposes. "
   ]
  },
  {
   "cell_type": "code",
   "execution_count": null,
   "id": "e8cd666c-c3f2-48ac-84a4-7a3dc1919c4b",
   "metadata": {
    "editable": true,
    "slideshow": {
     "slide_type": ""
    },
    "tags": []
   },
   "outputs": [],
   "source": [
    "standard_output_config =  {\n",
    "  \"document\": {\n",
    "    \"extraction\": {\n",
    "      \"granularity\": {\"types\": [\"DOCUMENT\",\"PAGE\", \"ELEMENT\",\"LINE\",\"WORD\"]},\n",
    "      \"boundingBox\": {\"state\": \"ENABLED\"}\n",
    "    },\n",
    "    \"generativeField\": {\"state\": \"ENABLED\"},\n",
    "    \"outputFormat\": {\n",
    "      \"textFormat\": {\"types\": [\"PLAIN_TEXT\", \"MARKDOWN\", \"HTML\", \"CSV\"]},\n",
    "      \"additionalFileFormat\": {\"state\": \"ENABLED\"}\n",
    "    }\n",
    "  },\n",
    "  \"image\": {\n",
    "    \"extraction\": {\n",
    "      \"category\": {\n",
    "        \"state\": \"ENABLED\",\n",
    "        \"types\": [\"CONTENT_MODERATION\",\"TEXT_DETECTION\"]\n",
    "      },\n",
    "      \"boundingBox\": {\"state\": \"ENABLED\"}\n",
    "    },\n",
    "    \"generativeField\": {\n",
    "      \"state\": \"ENABLED\",\n",
    "      \"types\": [\"IMAGE_SUMMARY\",\"IAB\"]\n",
    "    }\n",
    "  },\n",
    "  \"video\": {\n",
    "    \"extraction\": {\n",
    "      \"category\": {\n",
    "        \"state\": \"ENABLED\",\n",
    "        \"types\": [\"CONTENT_MODERATION\",\"TEXT_DETECTION\", \"TRANSCRIPT\"]\n",
    "      },\n",
    "      \"boundingBox\": {\"state\": \"ENABLED\"}\n",
    "    },\n",
    "    \"generativeField\": {\n",
    "      \"state\": \"ENABLED\",\n",
    "      \"types\": [\"VIDEO_SUMMARY\", \"CHAPTER_SUMMARY\",\"IAB\"]\n",
    "    }\n",
    "  },\n",
    "  \"audio\": {\n",
    "    \"extraction\": {\n",
    "      \"category\": {\n",
    "        \"state\": \"ENABLED\",\n",
    "        \"types\": ['AUDIO_CONTENT_MODERATION', 'TOPIC_CONTENT_MODERATION', 'TRANSCRIPT']\n",
    "      }\n",
    "    },\n",
    "    \"generativeField\": {\n",
    "      \"state\": \"ENABLED\",\n",
    "      \"types\": ['AUDIO_SUMMARY', 'TOPIC_SUMMARY', 'IAB']\n",
    "    }\n",
    "  }\n",
    "}\n",
    "\n",
    "# JSON(standard_output_config[\"document\"], expanded=True)\n",
    "JSON(standard_output_config, expanded=False)"
   ]
  },
  {
   "cell_type": "markdown",
   "id": "09a9f7c7-f2e2-4e81-b5e6-776c20a743e8",
   "metadata": {
    "editable": true,
    "slideshow": {
     "slide_type": ""
    },
    "tags": []
   },
   "source": [
    "# Create project with standard output config"
   ]
  },
  {
   "cell_type": "markdown",
   "id": "3f55263c-4d5a-42c5-93cb-e7f4fd7b344e",
   "metadata": {
    "editable": true,
    "slideshow": {
     "slide_type": ""
    },
    "tags": []
   },
   "source": [
    "To utilize standard output configurations, we create a project and utilize the previously defined standard output config. To get an overview of all the available parameters for project creation, see the [create project documentation](https://boto3.amazonaws.com/v1/documentation/api/latest/reference/services/bedrock-data-automation/client/create_data_automation_project.html)."
   ]
  },
  {
   "cell_type": "code",
   "execution_count": null,
   "id": "d42d5ff4-fee2-486b-a91d-d15b394bb4ca",
   "metadata": {
    "editable": true,
    "slideshow": {
     "slide_type": ""
    },
    "tags": []
   },
   "outputs": [],
   "source": [
    "project_name= \"my_bda_project\"\n",
    "\n",
    "# delete project if it already exists\n",
    "projects_existing = [project for project in bda_client.list_data_automation_projects()[\"projects\"] if project[\"projectName\"] == project_name]\n",
    "if len(projects_existing) > 0:\n",
    "    print(f\"Deleting existing project: {projects_existing[0]}\")\n",
    "    bda_client.delete_data_automation_project(projectArn=projects_existing[0][\"projectArn\"])\n",
    "    time.sleep(1) # nosemgrep"
   ]
  },
  {
   "cell_type": "code",
   "execution_count": null,
   "id": "30d1f6d9-6a2b-4285-a2a2-057b35bf5944",
   "metadata": {
    "editable": true,
    "slideshow": {
     "slide_type": ""
    },
    "tags": []
   },
   "outputs": [],
   "source": [
    "response = bda_client.create_data_automation_project(\n",
    "    projectName=project_name,\n",
    "    projectDescription=\"project to get our extended standard output\",\n",
    "    projectStage='LIVE',\n",
    "    standardOutputConfiguration=standard_output_config    \n",
    ")\n",
    "project_arn = response[\"projectArn\"]\n",
    "time.sleep(1) # nosemgrep\n",
    "JSON(response)"
   ]
  },
  {
   "cell_type": "markdown",
   "id": "4fe34695-ce93-4c31-8ec6-89eadd79f59f",
   "metadata": {
    "editable": true,
    "slideshow": {
     "slide_type": ""
    },
    "tags": []
   },
   "source": [
    "# Invoke data automation async"
   ]
  },
  {
   "cell_type": "code",
   "execution_count": null,
   "id": "96e534fe-e15d-498f-b424-57c0be6010aa",
   "metadata": {
    "editable": true,
    "slideshow": {
     "slide_type": ""
    },
    "tags": []
   },
   "outputs": [],
   "source": [
    "print(f\"Invoking bda - input: {document_s3_uri}\")\n",
    "print(f\"Invoking bda - output: {bda_s3_output_location}\")\n",
    "\n",
    "response = bda_runtime_client.invoke_data_automation_async(\n",
    "    inputConfiguration={\n",
    "        's3Uri': document_s3_uri\n",
    "    },\n",
    "    outputConfiguration={\n",
    "        's3Uri': bda_s3_output_location\n",
    "    },\n",
    "    dataAutomationConfiguration={\n",
    "        'dataAutomationProjectArn': project_arn,\n",
    "        'stage': 'LIVE'\n",
    "    },\n",
    "    dataAutomationProfileArn = f'arn:aws:bedrock:{current_region}:{account_id}:data-automation-profile/us.data-automation-v1'\n",
    ")\n",
    "\n",
    "invocationArn = response['invocationArn']"
   ]
  },
  {
   "cell_type": "markdown",
   "id": "44f118f9-9733-4235-a557-830739b42985",
   "metadata": {
    "editable": true,
    "slideshow": {
     "slide_type": ""
    },
    "tags": []
   },
   "source": [
    "### Get data automation job status\n",
    "\n",
    "We can check the status and monitor the progress of the Invocation job using the `GetDataAutomationStatus`. This API takes the invocation arn we retrieved from the response to the `InvokeDataAutomationAsync` operation above.\n",
    "\n",
    "The invocation job status moves from `Created` to `InProgress` and finally to `Success` when the job completes successfully, along with the S3 location of the results. If the job encounters and error the final status is either `ServiceError` or `ClientError` with error details"
   ]
  },
  {
   "cell_type": "code",
   "execution_count": null,
   "id": "384a70e2-c004-48c5-9f84-b54536d97e9f",
   "metadata": {
    "editable": true,
    "slideshow": {
     "slide_type": ""
    },
    "tags": []
   },
   "outputs": [],
   "source": [
    "status_response = wait_for_job_to_complete(invocationArn=invocationArn)\n",
    "if status_response['status'] == 'Success':\n",
    "    job_metadata_s3_location = status_response['outputConfiguration']['s3Uri']\n",
    "else:\n",
    "    raise Exception(f'Invocation Job Error, error_type={status_response[\"error_type\"]},error_message={status_response[\"error_message\"]}')"
   ]
  },
  {
   "cell_type": "markdown",
   "id": "201eab0e-1bd5-4784-a7f8-8c97120782ea",
   "metadata": {
    "editable": true,
    "slideshow": {
     "slide_type": ""
    },
    "tags": []
   },
   "source": [
    "### Retrieve job metadata\n",
    "\n",
    "Let's retrieve and explore the job metadata response.\n",
    "It will contain a field `standard_output_path` where the results have been saved."
   ]
  },
  {
   "cell_type": "code",
   "execution_count": null,
   "id": "56d2fe5a-2301-4d72-ac6a-5514316a3194",
   "metadata": {
    "editable": true,
    "slideshow": {
     "slide_type": ""
    },
    "tags": []
   },
   "outputs": [],
   "source": [
    "job_metadata = json.loads(read_s3_object(job_metadata_s3_location))\n",
    "JSON(job_metadata,root='job_metadata',expanded=True)"
   ]
  },
  {
   "cell_type": "markdown",
   "id": "6282162b-3d0e-43b0-a45d-4f77248e0ccb",
   "metadata": {
    "editable": true,
    "slideshow": {
     "slide_type": ""
    },
    "tags": []
   },
   "source": [
    "# Explore standard output results\n",
    "\n",
    "We can now explore the standard output received from processing documents using Data Automation. \n",
    "\n",
    "Based on the standard output configuration, we used above, we can have the following fields:\n",
    "* **metadata**\n",
    "* **document**\n",
    "* **pages**\n",
    "* **elements**\n",
    "* **text_lines**\n",
    "* **text_words**\n",
    "\n",
    "We will review each of these fields in the sections below."
   ]
  },
  {
   "cell_type": "markdown",
   "id": "550c02d8-48c8-49c2-84b6-b76539da7675",
   "metadata": {
    "editable": true,
    "slideshow": {
     "slide_type": ""
    },
    "tags": []
   },
   "source": [
    "First lets download and parse the standard_output json file, which we received from the job metadata."
   ]
  },
  {
   "cell_type": "code",
   "execution_count": null,
   "id": "6944582b-773a-4a09-ac95-56264def5ff9",
   "metadata": {
    "editable": true,
    "slideshow": {
     "slide_type": ""
    },
    "tags": []
   },
   "outputs": [],
   "source": [
    "asset_id=0\n",
    "standard_output_path = next(item[\"segment_metadata\"][0][\"standard_output_path\"] \n",
    "                                for item in job_metadata[\"output_metadata\"] \n",
    "                                if item['asset_id'] == asset_id)\n",
    "standard_output = json.loads(read_s3_object(standard_output_path))\n",
    "JSON(standard_output)"
   ]
  },
  {
   "cell_type": "markdown",
   "id": "028fed44-1399-4f84-a557-b727e30a4b13",
   "metadata": {
    "editable": true,
    "slideshow": {
     "slide_type": ""
    },
    "tags": []
   },
   "source": [
    "### metadata\n",
    "The metadata section in the response provides an overview of the metadata associated with the document. This include the S3 bucket and key for the input document. The metadata also contains the modality that was selected for your response, the number of pages processed as well as the start and end page index."
   ]
  },
  {
   "cell_type": "code",
   "execution_count": null,
   "id": "016ee0b9-288c-44d4-bd45-f914d99bb3d8",
   "metadata": {
    "editable": true,
    "slideshow": {
     "slide_type": ""
    },
    "tags": []
   },
   "outputs": [],
   "source": [
    "JSON(standard_output['metadata'],root='metadata',expanded=True)"
   ]
  },
  {
   "cell_type": "markdown",
   "id": "95ac64f9-2e7b-4701-86d2-150eb6a674e5",
   "metadata": {
    "editable": true,
    "slideshow": {
     "slide_type": ""
    },
    "tags": []
   },
   "source": [
    "### document\n",
    "The document section of the standard output provides document level granularity information. Document level granularity would include an analysis of information from the document providing key pieces of info.\n",
    "\n",
    "By default the document level granularity includes statistics that contain information on the actual content of the document, such as how many semantic elements there are, how many figures, words, lines, etc. We will look at further information that would be presented in the document level granularity when we modify the standard output using projects."
   ]
  },
  {
   "cell_type": "code",
   "execution_count": null,
   "id": "8daa8c5a-fb12-4543-9390-d6455b38584f",
   "metadata": {
    "editable": true,
    "slideshow": {
     "slide_type": ""
    },
    "tags": []
   },
   "outputs": [],
   "source": [
    "df_document = pd.json_normalize(standard_output[\"document\"])\n",
    "\n",
    "df = df_document.T\n",
    "pd.set_option('display.max_colwidth', 200)\n",
    "df"
   ]
  },
  {
   "cell_type": "markdown",
   "id": "c85be5e7-57fe-485d-a26c-cbbf38930fd7",
   "metadata": {
    "editable": true,
    "slideshow": {
     "slide_type": ""
    },
    "tags": []
   },
   "source": [
    "### pages\n",
    "With Page level granularity (enabled by default) text in a page are consolidated and are listed in the pages section with one item for each page. The page entity in the Standard output include the page index. The individual page entities also include the statistics that contain information on the actual content of the document, such as how many semantic elements there are, how many figures, words, lines, etc. The asset metadata represents the page bounds using coordinates of the four corners.\n",
    "\n",
    "Below, we look at a snippet of the output pertaining to a specific page."
   ]
  },
  {
   "cell_type": "code",
   "execution_count": null,
   "id": "47ba20c9-0284-49f6-8e1f-a49382f97a7a",
   "metadata": {
    "editable": true,
    "slideshow": {
     "slide_type": ""
    },
    "tags": []
   },
   "outputs": [],
   "source": [
    "df_pages = pd.json_normalize(standard_output[\"pages\"])\n",
    "pd.reset_option('display.max_colwidth')  \n",
    "df_pages.loc[3].T\n",
    "# show(df_pages.loc[3].T, classes=\"compact\")"
   ]
  },
  {
   "cell_type": "code",
   "execution_count": null,
   "id": "571e0289-c65c-411c-816f-6a949ccbc256",
   "metadata": {
    "editable": true,
    "slideshow": {
     "slide_type": ""
    },
    "tags": []
   },
   "outputs": [],
   "source": [
    "JSON(standard_output['pages'][8],root='pages[7]',expanded=False)"
   ]
  },
  {
   "cell_type": "code",
   "execution_count": null,
   "id": "fd3f0247-3c40-426b-9ee2-187bb3ee8c16",
   "metadata": {
    "editable": true,
    "slideshow": {
     "slide_type": ""
    },
    "tags": []
   },
   "outputs": [],
   "source": [
    "# Retrieve the markdown formatted text\n",
    "pages_md = [page[\"representation\"][\"markdown\"] for page in standard_output['pages']]\n",
    "display(Markdown(pages_md[4]))"
   ]
  },
  {
   "cell_type": "markdown",
   "id": "26f32795-8436-44bd-9d71-8f8ad43143d4",
   "metadata": {
    "editable": true,
    "slideshow": {
     "slide_type": ""
    },
    "tags": []
   },
   "source": [
    "### elements\n",
    "The element section contains the various semantic elements extracted from the documents including Text content, Tables and figures. The text and figure entites are further sub-classified for example TITLE/SECTION_TITLE for Text or Chart for figures."
   ]
  },
  {
   "cell_type": "markdown",
   "id": "e0a4011e-a84c-4c50-bca4-917470d1590d",
   "metadata": {
    "editable": true,
    "slideshow": {
     "slide_type": ""
    },
    "tags": []
   },
   "source": [
    "#### TEXT elements"
   ]
  },
  {
   "cell_type": "code",
   "execution_count": null,
   "id": "72db3a72-849e-4446-a064-5a342ed491c2",
   "metadata": {
    "editable": true,
    "slideshow": {
     "slide_type": ""
    },
    "tags": []
   },
   "outputs": [],
   "source": [
    "# Filter dataframe for text elements\n",
    "df_elements = pd.json_normalize(standard_output[\"elements\"])\n",
    "df_text = df_elements[df_elements[\"type\"] == \"TEXT\"]\n",
    "\n",
    "# Display formatted dataframe\n",
    "show(\n",
    "    df_text.iloc[:50, 2:8],\n",
    "    columnDefs=[\n",
    "        {\"width\": \"280px\", \"targets\": [4, 5]},\n",
    "        {\"width\": \"150px\", \"targets\": [3]},\n",
    "        {\"className\": \"dt-left\", \"targets\": \"_all\"}\n",
    "    ],\n",
    "    style=\"width:1200px\",\n",
    "    autoWidth=False,\n",
    "    classes = \"compact\",\n",
    "    showIndex=False\n",
    ")"
   ]
  },
  {
   "cell_type": "code",
   "execution_count": null,
   "id": "02ea30f0-907a-442f-9b47-6eb4cdb98516",
   "metadata": {
    "editable": true,
    "slideshow": {
     "slide_type": ""
    },
    "tags": []
   },
   "outputs": [],
   "source": [
    "JSON(standard_output['elements'][5],root='elements[5]')"
   ]
  },
  {
   "cell_type": "markdown",
   "id": "bae620f8-4d36-4dbc-ba02-0871dad2a990",
   "metadata": {
    "editable": true,
    "slideshow": {
     "slide_type": ""
    },
    "tags": []
   },
   "source": [
    "#### FIGURE elements"
   ]
  },
  {
   "cell_type": "code",
   "execution_count": null,
   "id": "2a19949a-160c-45d5-95de-1c827d813791",
   "metadata": {
    "editable": true,
    "scrolled": true,
    "slideshow": {
     "slide_type": ""
    },
    "tags": []
   },
   "outputs": [],
   "source": [
    "# Filter dataframe for text elements\n",
    "df_elements = pd.json_normalize(standard_output[\"elements\"])\n",
    "df_figure = df_elements[df_elements[\"type\"] == \"FIGURE\"]\n",
    "\n",
    "embedded_images=df_figure.apply( lambda row: create_image_html_column(row, \"crop_images\",\"200px\"), axis=1)\n",
    "df_figure.insert(6, 'image', embedded_images)\n",
    "\n",
    "# Display formatted dataframe\n",
    "show(\n",
    "    df_figure.iloc[:, 2:9],\n",
    "    columnDefs=[                \n",
    "        {\"width\": \"120px\", \"targets\": [0,1,3]},          \n",
    "        {\"width\": \"220px\", \"targets\": [2,4]},\n",
    "        {\"width\": \"280px\", \"targets\": [5]},        \n",
    "        {\"width\": \"480px\", \"targets\": [6]},        \n",
    "        {\"className\": \"dt-left\", \"targets\": \"_all\"}\n",
    "    ],\n",
    "    style=\"width:1200px\",\n",
    "    autoWidth=False,\n",
    "    classes=\"compact\",\n",
    "    showIndex=False,\n",
    "    # column_filters=\"header\"\n",
    ")"
   ]
  },
  {
   "cell_type": "code",
   "execution_count": null,
   "id": "37413c83-e9b9-4f27-9217-eb64261259f2",
   "metadata": {
    "editable": true,
    "slideshow": {
     "slide_type": ""
    },
    "tags": []
   },
   "outputs": [],
   "source": [
    "time.sleep(2) # nosemgrep\n",
    "JSON([el for el in standard_output[\"elements\"]if el[\"type\"]==\"FIGURE\"])"
   ]
  },
  {
   "cell_type": "markdown",
   "id": "43b2ff25-4253-46e7-a04a-c45d2fc33151",
   "metadata": {
    "editable": true,
    "slideshow": {
     "slide_type": ""
    },
    "tags": []
   },
   "source": [
    "#### TABLE elements"
   ]
  },
  {
   "cell_type": "code",
   "execution_count": null,
   "id": "98c6beb6-c314-42dc-9352-166e4e1580b5",
   "metadata": {
    "editable": true,
    "slideshow": {
     "slide_type": ""
    },
    "tags": []
   },
   "outputs": [],
   "source": [
    "# Filter dataframe for text elements\n",
    "df_elements = pd.json_normalize(standard_output[\"elements\"])\n",
    "df_table = df_elements[df_elements[\"type\"] == \"TABLE\"]\n",
    "\n",
    "embedded_images=df_table.apply( lambda row: create_image_html_column(row, \"crop_images\",\"500px\"), axis=1)\n",
    "df_table.insert(6, 'image', embedded_images)\n",
    "cols = [\"type\",\"locations\",\"image\", \n",
    "        #'representation.text', 'representation.markdown', \n",
    "        'representation.html','title', 'summary', 'footers', 'headers', 'csv_s3_uri',\n",
    "       'representation.csv']\n",
    "# Display formatted dataframe\n",
    "show(\n",
    "    df_table[cols],\n",
    "    columnDefs=[                \n",
    "        {\"width\": \"120px\", \"targets\": [0,1]},   \n",
    "        {\"width\": \"340px\", \"targets\": [2]},  \n",
    "        {\"width\": \"380px\", \"targets\": [3]},\n",
    "        {\"width\": \"150px\", \"targets\": [5,6,7,8]},        \n",
    "        {\"className\": \"dt-left\", \"targets\": \"_all\"}\n",
    "    ],\n",
    "    # style=\"width:1200px\",\n",
    "    # autoWidth=True,\n",
    "    classes=\"compact\",\n",
    "    showIndex=False,\n",
    "    scrollY=\"400\"    \n",
    ")"
   ]
  },
  {
   "cell_type": "code",
   "execution_count": null,
   "id": "a595fdfa-da74-4adc-a4a8-434f0bbfbbdc",
   "metadata": {
    "editable": true,
    "slideshow": {
     "slide_type": ""
    },
    "tags": []
   },
   "outputs": [],
   "source": [
    "JSON([el for el in standard_output[\"elements\"]if el[\"type\"]==\"TABLE\"][2], root=\"sample_table\")"
   ]
  },
  {
   "cell_type": "markdown",
   "id": "8ba9e4ac-cddc-4894-8367-ed2a9be00382",
   "metadata": {},
   "source": [
    "### text_lines elements"
   ]
  },
  {
   "cell_type": "code",
   "execution_count": null,
   "id": "9c5634d8-b1d0-4295-8e28-e33a6a604629",
   "metadata": {},
   "outputs": [],
   "source": [
    "JSON(standard_output[\"text_lines\"][:10], root=\"text_lines\")"
   ]
  },
  {
   "cell_type": "code",
   "execution_count": null,
   "id": "20b59c6e-6dfa-40a9-9309-66cd383af8d1",
   "metadata": {},
   "outputs": [],
   "source": [
    "df = pd.json_normalize(standard_output[\"text_lines\"])\n",
    "show(df, classes=\"compact\")"
   ]
  },
  {
   "cell_type": "markdown",
   "id": "fcd633e5-277e-44bc-9de7-587e87fe9faa",
   "metadata": {},
   "source": [
    "### text_words elements"
   ]
  },
  {
   "cell_type": "code",
   "execution_count": null,
   "id": "ff5e14af-6027-428d-8b81-d018686adc14",
   "metadata": {},
   "outputs": [],
   "source": [
    "JSON(standard_output[\"text_words\"][3:4], root=\"text_words[3:4]\", expanded=True)"
   ]
  },
  {
   "cell_type": "markdown",
   "id": "5e83cd8f-507f-4414-92eb-f92a25f894e4",
   "metadata": {},
   "source": [
    "## Conclusion\n",
    "\n",
    "We explored the standard output of BDA for documents which can be configured and allows us to detailled insights about a document and its structure,  like headers, sections, paragraphs, tables, figures, charts, etc.\n",
    "\n",
    "It does not only detect these elements but als interprets these elements, e.g. by giving a description of a figures, or by extracting the chart depicted values into a structured table. This structured output is very powerful \n",
    "\n",
    "This allows"
   ]
  },
  {
   "cell_type": "markdown",
   "id": "339176b4-0bee-4900-9f50-d3656f86b93e",
   "metadata": {
    "editable": true,
    "slideshow": {
     "slide_type": ""
    },
    "tags": []
   },
   "source": [
    "## Clean Up\n",
    "When you are done uncomment the lines of code in the following cells and execute to remove the sample file(s) and the BDA output"
   ]
  },
  {
   "cell_type": "code",
   "execution_count": null,
   "id": "7ebefcf2-c020-41da-9770-35fe9cfdc9e4",
   "metadata": {},
   "outputs": [],
   "source": [
    "#import os\n",
    "#from pathlib import Path\n",
    "\n",
    "## Delete S3 File\n",
    "#s3_client.delete_object(Bucket=target_s3_bucket, Key=target_s3_key)\n",
    "\n",
    "## Delete local file\n",
    "#if os.path.exists(local_file_name):\n",
    "# os.remove(local_file_name)\t\n",
    "\n",
    "## Delete bda job output\n",
    "#bda_s3_job_location = str(Path(job_metadata_s3_location).parent).replace(\"s3:/\",\"s3://\")\n",
    "#!aws s3 rm {bda_s3_job_location} --recursive"
   ]
  },
  {
   "cell_type": "markdown",
   "id": "b9a0f968-b70b-479f-a16a-a62eb0a9cf48",
   "metadata": {},
   "source": []
  },
  {
   "cell_type": "code",
   "execution_count": null,
   "id": "5a6228ea-9b57-402d-8b20-88003e54da29",
   "metadata": {},
   "outputs": [],
   "source": []
  }
 ],
 "metadata": {
  "kernelspec": {
   "display_name": "Python 3 (ipykernel)",
   "language": "python",
   "name": "python3"
  },
  "language_info": {
   "codemirror_mode": {
    "name": "ipython",
    "version": 3
   },
   "file_extension": ".py",
   "mimetype": "text/x-python",
   "name": "python",
   "nbconvert_exporter": "python",
   "pygments_lexer": "ipython3",
   "version": "3.11.11"
  }
 },
 "nbformat": 4,
 "nbformat_minor": 5
}
