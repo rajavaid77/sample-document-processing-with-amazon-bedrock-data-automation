{
 "cells": [
  {
   "cell_type": "markdown",
   "id": "358d3f9b-7605-4a87-a931-da3e57f87431",
   "metadata": {},
   "source": [
    "# Clean Up"
   ]
  },
  {
   "cell_type": "code",
   "execution_count": 20,
   "id": "2e9b18d9-a170-4993-9e63-457250e3e854",
   "metadata": {},
   "outputs": [
    {
     "name": "stdout",
     "output_type": "stream",
     "text": [
      "The autoreload extension is already loaded. To reload it, use:\n",
      "  %reload_ext autoreload\n"
     ]
    }
   ],
   "source": [
    "%load_ext autoreload\n",
    "%autoreload 2"
   ]
  },
  {
   "cell_type": "code",
   "execution_count": 21,
   "id": "463922fe-1035-4fb9-9b81-e2971fc9439f",
   "metadata": {},
   "outputs": [],
   "source": [
    "import boto3\n",
    "from utils import bedrock_utils"
   ]
  },
  {
   "cell_type": "code",
   "execution_count": 27,
   "id": "0315efbd-cd53-4849-89e4-1ac0b1da03d8",
   "metadata": {},
   "outputs": [
    {
     "name": "stdout",
     "output_type": "stream",
     "text": [
      "Delete Skipped. Could not find agent by name claims-agent-870569814485\n"
     ]
    }
   ],
   "source": [
    "sts_client = boto3.client('sts')\n",
    "account_id = sts_client.get_caller_identity()['Account']\n",
    "session = boto3.Session()"
   ]
  },
  {
   "cell_type": "code",
   "execution_count": 43,
   "id": "4fc0cad2-d03f-45fe-8f14-64755a9cf1b6",
   "metadata": {},
   "outputs": [
    {
     "name": "stdout",
     "output_type": "stream",
     "text": [
      "Agent loa-assistant Deleted\n"
     ]
    }
   ],
   "source": [
    "bedrock_agent = session.client('bedrock-agent')\n",
    "bedrock_utils.delete_agent_by_name(bedrock_agent,\n",
    "                                  agentName=f'claims-agent-{account_id}')"
   ]
  },
  {
   "cell_type": "code",
   "execution_count": 48,
   "id": "5fcfd9b7-5429-44e9-9871-47a75606efaf",
   "metadata": {},
   "outputs": [
    {
     "name": "stdout",
     "output_type": "stream",
     "text": [
      "Delete Failed, ['Unable to delete data from vector store for data source with ID 1DHUSQRTAE. Check your vector store configurations and permissions and retry your request. If the issue persists, consider updating the dataDeletionPolicy of the data source to RETAIN and retry your request.']\n"
     ]
    }
   ],
   "source": [
    "bedrock_agent = session.client('bedrock-agent')\n",
    "response = bedrock_utils.delete_knowledge_base_by_name(bedrock_agent,\n",
    "                                              kb_name=f'claims-eoc-kb-{account_id}')"
   ]
  },
  {
   "cell_type": "code",
   "execution_count": 58,
   "id": "7690bb39-6a9f-4139-85c3-00e8a7142f05",
   "metadata": {},
   "outputs": [
    {
     "ename": "ConflictException",
     "evalue": "An error occurred (ConflictException) when calling the UpdateKnowledgeBase operation: You cannot mutate a knowledgeBase with status DELETE_UNSUCCESSFUL.",
     "output_type": "error",
     "traceback": [
      "\u001b[0;31m---------------------------------------------------------------------------\u001b[0m",
      "\u001b[0;31mConflictException\u001b[0m                         Traceback (most recent call last)",
      "Cell \u001b[0;32mIn[58], line 1\u001b[0m\n\u001b[0;32m----> 1\u001b[0m \u001b[43mbedrock_utils\u001b[49m\u001b[38;5;241;43m.\u001b[39;49m\u001b[43mupdate_knowledge_base\u001b[49m\u001b[43m(\u001b[49m\u001b[43mbedrock_agent\u001b[49m\u001b[43m,\u001b[49m\u001b[43m \u001b[49m\n\u001b[1;32m      2\u001b[0m \u001b[43m                                    \u001b[49m\u001b[43mkb_name\u001b[49m\u001b[38;5;241;43m=\u001b[39;49m\u001b[38;5;124;43mf\u001b[39;49m\u001b[38;5;124;43m'\u001b[39;49m\u001b[38;5;124;43mclaims-eoc-kb-\u001b[39;49m\u001b[38;5;132;43;01m{\u001b[39;49;00m\u001b[43maccount_id\u001b[49m\u001b[38;5;132;43;01m}\u001b[39;49;00m\u001b[38;5;124;43m'\u001b[39;49m\u001b[43m,\u001b[49m\n\u001b[1;32m      3\u001b[0m \u001b[43m                                    \u001b[49m\u001b[43mkb_role_arn\u001b[49m\u001b[38;5;241;43m=\u001b[39;49m\u001b[38;5;124;43m'\u001b[39;49m\u001b[38;5;124;43marn:aws:iam::870569814485:role/bda-idp-workshop-SageMakerExecutionRole-wCE3wlvezaSQ\u001b[39;49m\u001b[38;5;124;43m'\u001b[39;49m\u001b[43m)\u001b[49m\n",
      "File \u001b[0;32m~/sample-document-processing-with-amazon-bedrock-data-automation/20-Industry-Use-Cases/22-Medical-Claims-Processing/utils/bedrock_utils.py:213\u001b[0m, in \u001b[0;36mupdate_knowledge_base\u001b[0;34m(bedrock_agent, kb_name, kb_role_arn, kb_description)\u001b[0m\n\u001b[1;32m    211\u001b[0m kb_id \u001b[38;5;241m=\u001b[39m existing_kb[\u001b[38;5;124m'\u001b[39m\u001b[38;5;124mknowledgeBaseId\u001b[39m\u001b[38;5;124m'\u001b[39m]\n\u001b[1;32m    212\u001b[0m kb \u001b[38;5;241m=\u001b[39m bedrock_agent\u001b[38;5;241m.\u001b[39mget_knowledge_base(knowledgeBaseId\u001b[38;5;241m=\u001b[39mkb_id)\n\u001b[0;32m--> 213\u001b[0m response \u001b[38;5;241m=\u001b[39m \u001b[43mbedrock_agent\u001b[49m\u001b[38;5;241;43m.\u001b[39;49m\u001b[43mupdate_knowledge_base\u001b[49m\u001b[43m(\u001b[49m\n\u001b[1;32m    214\u001b[0m \u001b[43m    \u001b[49m\u001b[43mdescription\u001b[49m\u001b[38;5;241;43m=\u001b[39;49m\u001b[43mkb_description\u001b[49m\u001b[43m \u001b[49m\u001b[38;5;28;43;01mif\u001b[39;49;00m\u001b[43m \u001b[49m\u001b[43mkb_description\u001b[49m\u001b[43m \u001b[49m\u001b[38;5;28;43;01melse\u001b[39;49;00m\u001b[43m \u001b[49m\u001b[43mkb\u001b[49m\u001b[43m[\u001b[49m\u001b[38;5;124;43m'\u001b[39;49m\u001b[38;5;124;43mknowledgeBase\u001b[39;49m\u001b[38;5;124;43m'\u001b[39;49m\u001b[43m]\u001b[49m\u001b[43m[\u001b[49m\u001b[38;5;124;43m'\u001b[39;49m\u001b[38;5;124;43mdescription\u001b[39;49m\u001b[38;5;124;43m'\u001b[39;49m\u001b[43m]\u001b[49m\u001b[43m,\u001b[49m\n\u001b[1;32m    215\u001b[0m \u001b[43m    \u001b[49m\u001b[43mknowledgeBaseConfiguration\u001b[49m\u001b[38;5;241;43m=\u001b[39;49m\u001b[43mkb\u001b[49m\u001b[43m[\u001b[49m\u001b[38;5;124;43m'\u001b[39;49m\u001b[38;5;124;43mknowledgeBase\u001b[39;49m\u001b[38;5;124;43m'\u001b[39;49m\u001b[43m]\u001b[49m\u001b[43m[\u001b[49m\u001b[38;5;124;43m'\u001b[39;49m\u001b[38;5;124;43mknowledgeBaseConfiguration\u001b[39;49m\u001b[38;5;124;43m'\u001b[39;49m\u001b[43m]\u001b[49m\u001b[43m,\u001b[49m\n\u001b[1;32m    216\u001b[0m \u001b[43m    \u001b[49m\u001b[43mknowledgeBaseId\u001b[49m\u001b[38;5;241;43m=\u001b[39;49m\u001b[43mkb_id\u001b[49m\u001b[43m,\u001b[49m\n\u001b[1;32m    217\u001b[0m \u001b[43m    \u001b[49m\u001b[43mname\u001b[49m\u001b[38;5;241;43m=\u001b[39;49m\u001b[43mkb_name\u001b[49m\u001b[43m \u001b[49m\u001b[38;5;28;43;01mif\u001b[39;49;00m\u001b[43m \u001b[49m\u001b[43mkb_name\u001b[49m\u001b[43m \u001b[49m\u001b[38;5;28;43;01melse\u001b[39;49;00m\u001b[43m \u001b[49m\u001b[43mkb\u001b[49m\u001b[43m[\u001b[49m\u001b[38;5;124;43m'\u001b[39;49m\u001b[38;5;124;43mknowledgeBase\u001b[39;49m\u001b[38;5;124;43m'\u001b[39;49m\u001b[43m]\u001b[49m\u001b[43m[\u001b[49m\u001b[38;5;124;43m'\u001b[39;49m\u001b[38;5;124;43mname\u001b[39;49m\u001b[38;5;124;43m'\u001b[39;49m\u001b[43m]\u001b[49m\u001b[43m,\u001b[49m\n\u001b[1;32m    218\u001b[0m \u001b[43m    \u001b[49m\u001b[43mroleArn\u001b[49m\u001b[38;5;241;43m=\u001b[39;49m\u001b[43mkb_role_arn\u001b[49m\u001b[43m \u001b[49m\u001b[38;5;28;43;01mif\u001b[39;49;00m\u001b[43m \u001b[49m\u001b[43mkb_role_arn\u001b[49m\u001b[43m \u001b[49m\u001b[38;5;28;43;01melse\u001b[39;49;00m\u001b[43m \u001b[49m\u001b[43mkb\u001b[49m\u001b[43m[\u001b[49m\u001b[38;5;124;43m'\u001b[39;49m\u001b[38;5;124;43mknowledgeBase\u001b[39;49m\u001b[38;5;124;43m'\u001b[39;49m\u001b[43m]\u001b[49m\u001b[43m[\u001b[49m\u001b[38;5;124;43m'\u001b[39;49m\u001b[38;5;124;43mroleArn\u001b[39;49m\u001b[38;5;124;43m'\u001b[39;49m\u001b[43m]\u001b[49m\u001b[43m,\u001b[49m\n\u001b[1;32m    219\u001b[0m \u001b[43m    \u001b[49m\u001b[43mstorageConfiguration\u001b[49m\u001b[38;5;241;43m=\u001b[39;49m\u001b[43mkb\u001b[49m\u001b[43m[\u001b[49m\u001b[38;5;124;43m'\u001b[39;49m\u001b[38;5;124;43mknowledgeBase\u001b[39;49m\u001b[38;5;124;43m'\u001b[39;49m\u001b[43m]\u001b[49m\u001b[43m[\u001b[49m\u001b[38;5;124;43m'\u001b[39;49m\u001b[38;5;124;43mstorageConfiguration\u001b[39;49m\u001b[38;5;124;43m'\u001b[39;49m\u001b[43m]\u001b[49m\n\u001b[1;32m    220\u001b[0m \u001b[43m\u001b[49m\u001b[43m)\u001b[49m\n\u001b[1;32m    221\u001b[0m \u001b[38;5;28;01mif\u001b[39;00m response[\u001b[38;5;124m'\u001b[39m\u001b[38;5;124mknowledgeBase\u001b[39m\u001b[38;5;124m'\u001b[39m][\u001b[38;5;124m'\u001b[39m\u001b[38;5;124mstatus\u001b[39m\u001b[38;5;124m'\u001b[39m] \u001b[38;5;241m==\u001b[39m \u001b[38;5;124m'\u001b[39m\u001b[38;5;124mUPDATING\u001b[39m\u001b[38;5;124m'\u001b[39m:\n\u001b[1;32m    222\u001b[0m     status_response \u001b[38;5;241m=\u001b[39m wait_for_completion(\n\u001b[1;32m    223\u001b[0m         bedrock_agent,\n\u001b[1;32m    224\u001b[0m         bedrock_agent\u001b[38;5;241m.\u001b[39mget_knowledge_base,\n\u001b[0;32m   (...)\u001b[0m\n\u001b[1;32m    230\u001b[0m         delay\u001b[38;5;241m=\u001b[39m\u001b[38;5;241m10\u001b[39m,\n\u001b[1;32m    231\u001b[0m     )\n",
      "File \u001b[0;32m/opt/conda/lib/python3.11/site-packages/botocore/client.py:570\u001b[0m, in \u001b[0;36mClientCreator._create_api_method.<locals>._api_call\u001b[0;34m(self, *args, **kwargs)\u001b[0m\n\u001b[1;32m    566\u001b[0m     \u001b[38;5;28;01mraise\u001b[39;00m \u001b[38;5;167;01mTypeError\u001b[39;00m(\n\u001b[1;32m    567\u001b[0m         \u001b[38;5;124mf\u001b[39m\u001b[38;5;124m\"\u001b[39m\u001b[38;5;132;01m{\u001b[39;00mpy_operation_name\u001b[38;5;132;01m}\u001b[39;00m\u001b[38;5;124m() only accepts keyword arguments.\u001b[39m\u001b[38;5;124m\"\u001b[39m\n\u001b[1;32m    568\u001b[0m     )\n\u001b[1;32m    569\u001b[0m \u001b[38;5;66;03m# The \"self\" in this scope is referring to the BaseClient.\u001b[39;00m\n\u001b[0;32m--> 570\u001b[0m \u001b[38;5;28;01mreturn\u001b[39;00m \u001b[38;5;28;43mself\u001b[39;49m\u001b[38;5;241;43m.\u001b[39;49m\u001b[43m_make_api_call\u001b[49m\u001b[43m(\u001b[49m\u001b[43moperation_name\u001b[49m\u001b[43m,\u001b[49m\u001b[43m \u001b[49m\u001b[43mkwargs\u001b[49m\u001b[43m)\u001b[49m\n",
      "File \u001b[0;32m/opt/conda/lib/python3.11/site-packages/botocore/context.py:124\u001b[0m, in \u001b[0;36mwith_current_context.<locals>.decorator.<locals>.wrapper\u001b[0;34m(*args, **kwargs)\u001b[0m\n\u001b[1;32m    122\u001b[0m \u001b[38;5;28;01mif\u001b[39;00m hook:\n\u001b[1;32m    123\u001b[0m     hook()\n\u001b[0;32m--> 124\u001b[0m \u001b[38;5;28;01mreturn\u001b[39;00m \u001b[43mfunc\u001b[49m\u001b[43m(\u001b[49m\u001b[38;5;241;43m*\u001b[39;49m\u001b[43margs\u001b[49m\u001b[43m,\u001b[49m\u001b[43m \u001b[49m\u001b[38;5;241;43m*\u001b[39;49m\u001b[38;5;241;43m*\u001b[39;49m\u001b[43mkwargs\u001b[49m\u001b[43m)\u001b[49m\n",
      "File \u001b[0;32m/opt/conda/lib/python3.11/site-packages/botocore/client.py:1031\u001b[0m, in \u001b[0;36mBaseClient._make_api_call\u001b[0;34m(self, operation_name, api_params)\u001b[0m\n\u001b[1;32m   1027\u001b[0m     error_code \u001b[38;5;241m=\u001b[39m error_info\u001b[38;5;241m.\u001b[39mget(\u001b[38;5;124m\"\u001b[39m\u001b[38;5;124mQueryErrorCode\u001b[39m\u001b[38;5;124m\"\u001b[39m) \u001b[38;5;129;01mor\u001b[39;00m error_info\u001b[38;5;241m.\u001b[39mget(\n\u001b[1;32m   1028\u001b[0m         \u001b[38;5;124m\"\u001b[39m\u001b[38;5;124mCode\u001b[39m\u001b[38;5;124m\"\u001b[39m\n\u001b[1;32m   1029\u001b[0m     )\n\u001b[1;32m   1030\u001b[0m     error_class \u001b[38;5;241m=\u001b[39m \u001b[38;5;28mself\u001b[39m\u001b[38;5;241m.\u001b[39mexceptions\u001b[38;5;241m.\u001b[39mfrom_code(error_code)\n\u001b[0;32m-> 1031\u001b[0m     \u001b[38;5;28;01mraise\u001b[39;00m error_class(parsed_response, operation_name)\n\u001b[1;32m   1032\u001b[0m \u001b[38;5;28;01melse\u001b[39;00m:\n\u001b[1;32m   1033\u001b[0m     \u001b[38;5;28;01mreturn\u001b[39;00m parsed_response\n",
      "\u001b[0;31mConflictException\u001b[0m: An error occurred (ConflictException) when calling the UpdateKnowledgeBase operation: You cannot mutate a knowledgeBase with status DELETE_UNSUCCESSFUL."
     ]
    }
   ],
   "source": [
    "bedrock_utils.update_knowledge_base(bedrock_agent, \n",
    "                                    kb_name=f'claims-eoc-kb-{account_id}',\n",
    "                                    kb_role_arn='arn:aws:iam::870569814485:role/bda-idp-workshop-SageMakerExecutionRole-wCE3wlvezaSQ')"
   ]
  },
  {
   "cell_type": "markdown",
   "id": "89c767a9-63f2-4e94-990a-2b76be9ba093",
   "metadata": {},
   "source": [
    "\n",
    "Run the following cells to clean up the resources created as part of the"
   ]
  },
  {
   "cell_type": "markdown",
   "id": "a598dde5-5fd6-4700-b69f-b0795bc4a2e6",
   "metadata": {},
   "source": [
    "## Delete CloudFormation Stack"
   ]
  },
  {
   "cell_type": "markdown",
   "id": "a7df9eb1-c8ea-4101-97ca-b4160626b541",
   "metadata": {},
   "source": [
    "If you deployed the CloudFormation Stack as part of the [Self Paced (Setup)](https://catalog.us-east-1.prod.workshops.aws/workshops/c64e3606-ab68-4521-81ea-b2eb36c993b9/en-US/02-setup/12-self-paced) option in the [Document Processing Using Amazon Bedrock Data Automation (BDA)](https://catalog.us-east-1.prod.workshops.aws/workshops/c64e3606-ab68-4521-81ea-b2eb36c993b9/en-US) workshop , then see [Delete a stack from the CloudFormation console](https://docs.aws.amazon.com/AWSCloudFormation/latest/UserGuide/cfn-console-delete-stack.html)  to clean up the resources created by the stack bda-idp-workshop. You will incur costs for the any resources from the workshop that you retain.\n"
   ]
  },
  {
   "cell_type": "code",
   "execution_count": null,
   "id": "40214c4a-fe7a-4a3d-a025-b46e1b94d640",
   "metadata": {},
   "outputs": [],
   "source": []
  }
 ],
 "metadata": {
  "kernelspec": {
   "display_name": "Python 3 (ipykernel)",
   "language": "python",
   "name": "python3"
  },
  "language_info": {
   "codemirror_mode": {
    "name": "ipython",
    "version": 3
   },
   "file_extension": ".py",
   "mimetype": "text/x-python",
   "name": "python",
   "nbconvert_exporter": "python",
   "pygments_lexer": "ipython3",
   "version": "3.11.11"
  }
 },
 "nbformat": 4,
 "nbformat_minor": 5
}
